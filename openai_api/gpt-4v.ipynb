{
 "cells": [
  {
   "cell_type": "markdown",
   "id": "b4b6a552-b7f0-433d-9a70-61c4fcc52d5d",
   "metadata": {},
   "source": [
    "# 快速入门 GPT-4 Vison\n",
    "\n",
    "从历史上看，语言模型系统仅接受**文本**作为输入。但是单一的输入形式，限制了大模型的应用落地范围。\n",
    "\n",
    "随着技术发展，OpenAI 开发的 GPT-4 Turbo with Vision（简称 GPT-4V）允许模型接收**图像**作为输入，并回答关于它们的问题。\n",
    "\n",
    "📢注意，目前在 Assistants API 中使用 GPT-4 时还不支持图像输入。"
   ]
  },
  {
   "cell_type": "markdown",
   "id": "3a701c56-0a2a-4dea-b458-234150b84ff2",
   "metadata": {},
   "source": [
    "## 使用 GPT-4V 识别线上图像（URL）\n",
    "\n",
    "![image_sample](https://upload.wikimedia.org/wikipedia/commons/thumb/d/dd/Gfp-wisconsin-madison-the-nature-boardwalk.jpg/2560px-Gfp-wisconsin-madison-the-nature-boardwalk.jpg)"
   ]
  },
  {
   "cell_type": "code",
   "execution_count": 1,
   "id": "bf8689b2-94f2-4a35-a332-9ffed0a56aca",
   "metadata": {},
   "outputs": [
    {
     "name": "stdout",
     "output_type": "stream",
     "text": [
      "Choice(finish_reason='stop', index=0, logprobs=None, message=ChatCompletionMessage(content='这幅图展示的是一条位于高草地中的木制栈道，引领视线穿越翠绿的自然景观直至远方。草地上没有明显的花卉，但不同色调的绿色给人一种生机勃勃的感觉。天空晴朗，布满了绵延的白云，为整个景色增添了宽广与深远的感觉。这种场景通常见于公园或自然保护区，是人们散步或观察自然生态的理想场所。整体上，这幅图片传达了一种宁静与和谐的氛围。', role='assistant', function_call=None, tool_calls=None))\n"
     ]
    }
   ],
   "source": [
    "from openai import OpenAI\n",
    "\n",
    "client = OpenAI(base_url='https://api.xiaoai.plus/v1')\n",
    "\n",
    "response = client.chat.completions.create(\n",
    "  model=\"gpt-4-turbo\",\n",
    "  messages=[\n",
    "    {\n",
    "      \"role\": \"user\",\n",
    "      \"content\": [\n",
    "        {\"type\": \"text\", \"text\": \"介绍下这幅图?\"},\n",
    "        {\n",
    "          \"type\": \"image_url\",\n",
    "          \"image_url\": {\n",
    "            \"url\": \"https://upload.wikimedia.org/wikipedia/commons/thumb/d/dd/Gfp-wisconsin-madison-the-nature-boardwalk.jpg/2560px-Gfp-wisconsin-madison-the-nature-boardwalk.jpg\",\n",
    "          },\n",
    "        },\n",
    "      ],\n",
    "    }\n",
    "  ],\n",
    "  max_tokens=300,\n",
    ")\n",
    "\n",
    "print(response.choices[0])"
   ]
  },
  {
   "cell_type": "code",
   "execution_count": 2,
   "id": "9bcc9026-7485-428f-8269-ea9ae41405cb",
   "metadata": {},
   "outputs": [
    {
     "data": {
      "text/plain": [
       "'这幅图展示的是一条位于高草地中的木制栈道，引领视线穿越翠绿的自然景观直至远方。草地上没有明显的花卉，但不同色调的绿色给人一种生机勃勃的感觉。天空晴朗，布满了绵延的白云，为整个景色增添了宽广与深远的感觉。这种场景通常见于公园或自然保护区，是人们散步或观察自然生态的理想场所。整体上，这幅图片传达了一种宁静与和谐的氛围。'"
      ]
     },
     "execution_count": 2,
     "metadata": {},
     "output_type": "execute_result"
    }
   ],
   "source": [
    "response.choices[0].message.content"
   ]
  },
  {
   "cell_type": "markdown",
   "id": "7fb50a14-fa14-4c63-9f81-b98b0f65d9d9",
   "metadata": {},
   "source": [
    "### 封装成一个函数 query_image_description"
   ]
  },
  {
   "cell_type": "code",
   "execution_count": 3,
   "id": "c1ca5428-c7e1-4d7e-91f1-d4a05e95ac51",
   "metadata": {},
   "outputs": [],
   "source": [
    "def query_image_description(url, prompt=\"介绍下这幅图?\"):\n",
    "    client = OpenAI(base_url='https://api.xiaoai.plus/v1')  # 初始化 OpenAI 客户端\n",
    "    \n",
    "    # 发送请求给 OpenAI 的聊天模型\n",
    "    response = client.chat.completions.create(\n",
    "        model=\"gpt-4-turbo\",  # 指定使用的模型\n",
    "        messages=[\n",
    "            {\n",
    "                \"role\": \"user\",\n",
    "                \"content\": [\n",
    "                    {\"type\": \"text\", \"text\": prompt},\n",
    "                    {\"type\": \"image_url\", \"image_url\": {\"url\": url}},\n",
    "                ],\n",
    "            }\n",
    "        ],\n",
    "        max_tokens=300,\n",
    "    )\n",
    "    \n",
    "    # 返回模型的响应\n",
    "    return response.choices[0].message.content\n"
   ]
  },
  {
   "cell_type": "markdown",
   "id": "a0d0aceb-7cc5-4da1-b6db-e47716ba145a",
   "metadata": {},
   "source": [
    "### 调用函数测试\n",
    "\n",
    "![meme_0](https://p6.itc.cn/q_70/images03/20200602/0c267a0d3d814c9783659eb956969ba1.jpeg)"
   ]
  },
  {
   "cell_type": "code",
   "execution_count": 9,
   "id": "454abb5c-49d3-42e6-867e-f44e25af5e0e",
   "metadata": {},
   "outputs": [
    {
     "name": "stdout",
     "output_type": "stream",
     "text": [
      "这幅图是一张幽默的比较图，展示了一只肌肉发达的沙皮犬和一只普通体型的沙皮犬。左边的肌肉沙皮犬被标记为“16岁的我”上方的描述为“工作后的我”，给人一种幻想中年轻时充满力量和活力的模样。右边的普通沙皮犬则给人一种无奈、颓废的感觉，下方的描述是工作压力和生活的不易。整幅图通过夸张的对比，幽默地表达了人们对于年轻时与工作后状态的想象与现实之间的差距。这种类型的图通常用来在社交媒体上引发共鸣和笑声。\n"
     ]
    }
   ],
   "source": [
    "image_url = \"https://p6.itc.cn/q_70/images03/20200602/0c267a0d3d814c9783659eb956969ba1.jpeg\"\n",
    "content = query_image_description(image_url)\n",
    "print(content)"
   ]
  },
  {
   "cell_type": "code",
   "execution_count": null,
   "id": "2471306a-84e2-4793-b065-0741fbe57262",
   "metadata": {},
   "outputs": [],
   "source": []
  },
  {
   "cell_type": "code",
   "execution_count": null,
   "id": "af79850f-83b5-49c4-a3f3-f2c01a28f458",
   "metadata": {},
   "outputs": [],
   "source": []
  },
  {
   "cell_type": "markdown",
   "id": "63ae05bd-872c-4638-8259-df4f420aaa1d",
   "metadata": {},
   "source": [
    "### 使用 GPT-4V 识别本地图像文件（Base64编码）\n"
   ]
  },
  {
   "cell_type": "code",
   "execution_count": 12,
   "id": "1e83da68-d387-46da-8236-78fc607d1fab",
   "metadata": {},
   "outputs": [],
   "source": [
    "from openai import OpenAI\n",
    "import base64\n",
    "import requests\n",
    "import json\n",
    "\n",
    "client = OpenAI(base_url='https://api.xiaoai.plus/v1')  # 初始化 OpenAI 客户端\n",
    "\n",
    "def query_base64_image_description(image_path, prompt=\"解释下图里的内容？\", max_tokens=1000):\n",
    "\n",
    "    # 实现 Base64 编码\n",
    "    def encode_image(path):\n",
    "        with open(path, \"rb\") as image_file:\n",
    "            return base64.b64encode(image_file.read()).decode('utf-8')\n",
    "\n",
    "    # 获取图像的 Base64 编码字符串\n",
    "    base64_image = encode_image(image_path)\n",
    "\n",
    "    # 构造请求的 HTTP Header\n",
    "    headers = {\n",
    "        \"Content-Type\": \"application/json\",\n",
    "        \"Authorization\": f\"Bearer {client.api_key}\"\n",
    "    }\n",
    "\n",
    "    # 构造请求的负载\n",
    "    payload = {\n",
    "        \"model\": \"gpt-4-turbo\",\n",
    "        \"messages\": [\n",
    "            {\n",
    "                \"role\": \"user\",\n",
    "                \"content\": [\n",
    "                    {\"type\": \"text\", \"text\": prompt},\n",
    "                    {\"type\": \"image_url\", \"image_url\": {\"url\": f\"data:image/jpeg;base64,{base64_image}\"}}\n",
    "                ]\n",
    "            }\n",
    "        ],\n",
    "        \"max_tokens\": max_tokens\n",
    "    }\n",
    "\n",
    "    # 发送 HTTP 请求\n",
    "    response = requests.post(\"https://api.xiaoai.plus/v1/chat/completions\", headers=headers, json=payload)\n",
    "\n",
    "    # 检查响应并提取所需的 content 字段\n",
    "    if response.status_code == 200:\n",
    "        response_data = response.json()\n",
    "        content = response_data['choices'][0]['message']['content']\n",
    "        return content\n",
    "    else:\n",
    "        return f\"Error: {response.status_code}, {response.text}\""
   ]
  },
  {
   "cell_type": "markdown",
   "id": "89dd0f99-8086-473f-80a4-497e6dd07c17",
   "metadata": {},
   "source": [
    "#### 使用 Assistants API生成的 GDP 40年对比曲线图\n",
    "\n",
    "![gdp_data](./images/gdp_1980_2020.jpg)"
   ]
  },
  {
   "cell_type": "code",
   "execution_count": 13,
   "id": "3c0e9063-e8d9-4bc1-ae60-ad0aa5bee32b",
   "metadata": {},
   "outputs": [
    {
     "name": "stdout",
     "output_type": "stream",
     "text": [
      "这张图表展示了从1980年到2020年间，美国、中国、日本和德国的国内生产总值(GDP)的比较。图中将GDP数值以万亿美元表示，并使用不同的颜色代表不同的国家：蓝色代表美国，红色代表中国，紫色代表日本，绿色代表德国。\n",
      "\n",
      "从图中可以看到，美国的GDP整体呈稳步上升趋势，尤其是从1995年以后增长更为显著。中国的GDP在1990年之前增长相对缓慢，但从1990年开始快速增长，并在2010年之后增长更为迅猛。至2020年，中国的GDP已接近美国。\n",
      "\n",
      "日本的GDP在1980年代和1990年代初期有较快增长，但自1995年后增长放缓，并在2000年以后基本保持平稳。德国的GDP增长则相对平稳，整体增长幅度较小。\n",
      "\n",
      "总的来看，这张图表清晰地展示了这四个大国在过去四十年间的经济增长情况，并突出了中国经济的快速增长，以及美国作为世界最大经济体的地位。\n"
     ]
    }
   ],
   "source": [
    "content = query_base64_image_description(\"./images/gdp_1980_2020.jpg\")\n",
    "print(content)"
   ]
  },
  {
   "cell_type": "markdown",
   "id": "6d18b227-32a6-4450-86bd-c99ad5c533b9",
   "metadata": {},
   "source": [
    "#### 使用 GPT-4V 识别手写体笔记\n",
    "\n",
    "![](./images/handwriting_0.jpg)"
   ]
  },
  {
   "cell_type": "code",
   "execution_count": 14,
   "id": "4193fa11-5edd-404c-9472-0cb8cc6799fc",
   "metadata": {},
   "outputs": [
    {
     "name": "stdout",
     "output_type": "stream",
     "text": [
      "这张图片是一本笔记本的一页，上面记载了一些关于深度学习模型调优技术的笔记。主要内容包括：\n",
      "\n",
      "1. **Prompt Tuning （简单模型 Small Model）**：\n",
      "   - 提到了输入 \\( X = [X_1, X_2, ..., X_n] \\) 的表示，这是通过嵌入（Embedding）技术将原始的数据标记转换成能够输入到模型中的形式。\n",
      "   - \\( Y = WX' \\) 表示输出 \\( Y \\) 是通过输入 \\( X' \\) 与权重矩阵 \\( W \\) 的线性变换得到。\n",
      "\n",
      "2. **Prefix Tuning**：\n",
      "   - 提到了通过扩展权重 \\( W' = [W_p; W] \\) 来调整前缀，生成新的输出 \\( Y \\)。\n",
      "\n",
      "3. **LoRA（低秩逼近 Low-Rank Approximation）技术**：\n",
      "   - 记录了 \\( Y = (W + \\Delta W)X \\) 公式，其中 \\( \\Delta W = AB \\) 用于调整原有的权重矩阵 \\( W \\)，是一个低秩矩阵乘法形式（\\( A \\) 和 \\( B \\) 是低秩矩阵）。\n",
      "   - 提到了将此技术应用于参数调优的过程和内存效率的提升。\n",
      "\n",
      "最后，还有一些关于模型大小和存储需求的对比（如LoRA vs LaMA），以及相关的内存使用数据（LoRA - 78GB, LaMA - 65GB, QLoRA - 48GB）。这些信息表明作者正在研究或记录不同调优技术在不同参数和内存效率方面的表现。\n"
     ]
    }
   ],
   "source": [
    "content = query_base64_image_description(\"./images/handwriting_0.jpg\")\n",
    "print(content)"
   ]
  },
  {
   "cell_type": "markdown",
   "id": "ca046601-018c-455c-ace2-41392cbda456",
   "metadata": {},
   "source": [
    "#### 在 Jupyter 标准输出中渲染 Markdown 格式内容"
   ]
  },
  {
   "cell_type": "code",
   "execution_count": 15,
   "id": "516ee35b-1337-4b22-aea2-ee0adb706098",
   "metadata": {},
   "outputs": [
    {
     "data": {
      "text/markdown": [
       "这张图片是一本笔记本的一页，上面记载了一些关于深度学习模型调优技术的笔记。主要内容包括：\n",
       "\n",
       "1. **Prompt Tuning （简单模型 Small Model）**：\n",
       "   - 提到了输入 \\( X = [X_1, X_2, ..., X_n] \\) 的表示，这是通过嵌入（Embedding）技术将原始的数据标记转换成能够输入到模型中的形式。\n",
       "   - \\( Y = WX' \\) 表示输出 \\( Y \\) 是通过输入 \\( X' \\) 与权重矩阵 \\( W \\) 的线性变换得到。\n",
       "\n",
       "2. **Prefix Tuning**：\n",
       "   - 提到了通过扩展权重 \\( W' = [W_p; W] \\) 来调整前缀，生成新的输出 \\( Y \\)。\n",
       "\n",
       "3. **LoRA（低秩逼近 Low-Rank Approximation）技术**：\n",
       "   - 记录了 \\( Y = (W + \\Delta W)X \\) 公式，其中 \\( \\Delta W = AB \\) 用于调整原有的权重矩阵 \\( W \\)，是一个低秩矩阵乘法形式（\\( A \\) 和 \\( B \\) 是低秩矩阵）。\n",
       "   - 提到了将此技术应用于参数调优的过程和内存效率的提升。\n",
       "\n",
       "最后，还有一些关于模型大小和存储需求的对比（如LoRA vs LaMA），以及相关的内存使用数据（LoRA - 78GB, LaMA - 65GB, QLoRA - 48GB）。这些信息表明作者正在研究或记录不同调优技术在不同参数和内存效率方面的表现。"
      ],
      "text/plain": [
       "<IPython.core.display.Markdown object>"
      ]
     },
     "metadata": {},
     "output_type": "display_data"
    }
   ],
   "source": [
    "from IPython.display import display, Markdown\n",
    "\n",
    "# 使用 display 和 Markdown 函数显示 Markdown 内容\n",
    "display(Markdown(content))"
   ]
  },
  {
   "cell_type": "markdown",
   "id": "b72ebbe3-87cc-4867-9cf0-62e5ed684482",
   "metadata": {},
   "source": [
    "![](./images/handwriting_1.jpg)"
   ]
  },
  {
   "cell_type": "code",
   "execution_count": 16,
   "id": "7c046958-aa7a-4066-88fa-4134869d9226",
   "metadata": {},
   "outputs": [
    {
     "data": {
      "text/markdown": [
       "这张图片展示的是一本笔记本上的手写笔记，内容涉及到机器学习领域中的一些技术和方法，特别是关于自然语言处理（NLP）中的“transformer”模型和其变体的细节。从笔记中可见，作者记录了关于transformer模型的各种调优方法和部分评估标准。\n",
       "\n",
       "左侧的笔记提到：\n",
       "- PEFT (可能指的是某种性能优化技术)\n",
       "- SOTA（State of the Art的缩写，指领域内最先进的研究或技术）\n",
       "- PBFT Methods\n",
       "- Prompt Tuning（一种调整预训练模型以适应特定任务的方法）\n",
       "  - Adaptor、Prefix、P-Tuning 手法的年份和来源也被记录，如\"Adaptor (2019, Google)”。\n",
       "\n",
       "右侧的笔记则记录了：\n",
       "- 多模态指令式微调（multi-modality instruction finetuning）\n",
       "- LoRA 和 PETC 等新方法\n",
       "- Adapters的使用（这是一种插入到预训练模型的小模块，使得模型能够更好地适应新任务而不需要大规模重新训练）\n",
       "\n",
       "此外，还涉及到优化技术如LoRA、GLoRA等的变体，以及不同技术如Scaled parallel adapter、MAM Adapters的性能对比和优化结果。\n",
       "\n",
       "总的来说，这些笔记体现出作者在积极学习和记录目前自然语言处理领域里transformer模型调优和应用的各种先进技术和方法。这种笔记对于理解和跟进该领域的快速发展非常有帮助。"
      ],
      "text/plain": [
       "<IPython.core.display.Markdown object>"
      ]
     },
     "metadata": {},
     "output_type": "display_data"
    }
   ],
   "source": [
    "content = query_base64_image_description(\"./images/handwriting_1.jpg\")\n",
    "display(Markdown(content))"
   ]
  },
  {
   "cell_type": "code",
   "execution_count": null,
   "id": "156a0f17-cca8-4f01-9ce5-53384b5ffda4",
   "metadata": {},
   "outputs": [],
   "source": []
  },
  {
   "cell_type": "code",
   "execution_count": null,
   "id": "e3bd772f-9492-4f6c-b05a-666b772ca3c9",
   "metadata": {},
   "outputs": [],
   "source": []
  },
  {
   "cell_type": "code",
   "execution_count": null,
   "id": "8afdeacb-aac1-4692-be2b-fb7957ba5e8f",
   "metadata": {},
   "outputs": [],
   "source": []
  },
  {
   "cell_type": "markdown",
   "id": "79a8d459-d98e-4215-9fbf-38ad37080475",
   "metadata": {},
   "source": [
    "## Homework: \n",
    "\n",
    "\n",
    "### #1\n",
    "\n",
    "使用 GPT-4V 识别带有手写体文字的本地图像文件，分享结果。\n",
    "\n",
    "### #2\n",
    "\n",
    "整合 `query_base64_image_description` 函数和 Markdown 格式渲染方法，使得输出结果更易阅读。"
   ]
  },
  {
   "cell_type": "code",
   "execution_count": 18,
   "id": "0909bf27-9c4a-498c-9fae-0f442062b9a8",
   "metadata": {},
   "outputs": [
    {
     "name": "stdout",
     "output_type": "stream",
     "text": [
      "这张图片中记录的是关于概率论和集合论的笔记。内容包括以下几部分：\n",
      "\n",
      "1. **集合运算** \n",
      "    - ① 交换律（交换律适用于并集和交集）\n",
      "    - ② 吸收律\n",
      "    - ③ 互补运算定理\n",
      "\n",
      "2. **集合运算的属性**\n",
      "    - 补集的公式：如\\(A' = U - A\\)（全集减去某集合A表示A的补集）\n",
      "    - 去补律：涉及到补集的运算\n",
      "    - 幂等律：集合自身的并集或交集等于自身\n",
      "    - 定律：如空集的定义等\n",
      "\n",
      "3. **集合运算符号说明**\n",
      "    - ① 小于或等于\n",
      "    - ② 等于\n",
      "    - ③ 属于\n",
      "    - ④ 并集\n",
      "    - ⑤ 交集\n",
      "    - ⑥ 空\n",
      "    - ⑦ 子集  \n",
      "\n",
      "4. **更高级的集合操作和表示**\n",
      "    - 例如集合的差集 \\(A - B = AB' = A(AB')\\)（表示A中不属于B的部分）\n",
      "    - 泛化的集合运算公式，如无穷并、无穷交等。\n",
      "\n",
      "5. **概率运算**\n",
      "    - ① 事件发生的概率大于0\n",
      "    - ② 确定性事件的概率为1\n",
      "    - ③ 加法公式和一般加法公式，用于计算复合事件的概率\n",
      "\n",
      "这些笔记深入介绍了数学中集合和概率的基础概念，符号，以及它们的运算规则，适用于进一步的数学学习和应用。\n"
     ]
    }
   ],
   "source": [
    "## Homework 1\n",
    "content = query_base64_image_description(\"./images/handwriting_2.png\")\n",
    "print(content)"
   ]
  },
  {
   "cell_type": "code",
   "execution_count": null,
   "id": "5a85b8ba-67cd-44f5-98da-8a33f24ef11f",
   "metadata": {},
   "outputs": [],
   "source": []
  }
 ],
 "metadata": {
  "kernelspec": {
   "display_name": "Python 3 (ipykernel)",
   "language": "python",
   "name": "python3"
  },
  "language_info": {
   "codemirror_mode": {
    "name": "ipython",
    "version": 3
   },
   "file_extension": ".py",
   "mimetype": "text/x-python",
   "name": "python",
   "nbconvert_exporter": "python",
   "pygments_lexer": "ipython3",
   "version": "3.10.14"
  }
 },
 "nbformat": 4,
 "nbformat_minor": 5
}
